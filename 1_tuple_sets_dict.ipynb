{
 "cells": [
  {
   "cell_type": "markdown",
   "id": "02905260-1e79-40ed-80a9-795446b7b7f0",
   "metadata": {},
   "source": [
    "Q1. WHAT ARE THE CHARACTERISTICS OF TUPLES, IS TUPLE IMMUTABLE?"
   ]
  },
  {
   "cell_type": "markdown",
   "id": "847d44d8-2cfe-46c0-a886-9054540f46df",
   "metadata": {},
   "source": [
    "Characteristics of tuples are : \n",
    "    1. they are indexed,\n",
    "    2. dupilcate items are allowed in tuples\n",
    "    3. they are immutable\n",
    "    4. tuples are ordered"
   ]
  },
  {
   "cell_type": "markdown",
   "id": "d6c628e7-40c3-410b-8c8b-c49686e7dd99",
   "metadata": {},
   "source": [
    "Yes, tuples are immutable"
   ]
  },
  {
   "cell_type": "markdown",
   "id": "037dbeaf-4d3a-4007-8341-6a81e7d478bb",
   "metadata": {},
   "source": [
    " Q2. What are the two tuple methods in python? Give an example of each method. Give a reason why\n",
    "tuples have only two in-built methods as compared to Lists.  "
   ]
  },
  {
   "cell_type": "markdown",
   "id": "1bedc8fd-ae51-4fc5-ab83-82731dea4aaa",
   "metadata": {},
   "source": [
    "tuples have 2 inbuilt methods, they are\n",
    "    1. count\n",
    "    2. index"
   ]
  },
  {
   "cell_type": "code",
   "execution_count": 1,
   "id": "5d731211-7645-45e1-a32b-71055c623cbf",
   "metadata": {},
   "outputs": [],
   "source": [
    "t = (1,2,3,4,1)"
   ]
  },
  {
   "cell_type": "code",
   "execution_count": 2,
   "id": "465d424f-2bab-49f6-b1d2-5caaa041af5e",
   "metadata": {},
   "outputs": [
    {
     "data": {
      "text/plain": [
       "1"
      ]
     },
     "execution_count": 2,
     "metadata": {},
     "output_type": "execute_result"
    }
   ],
   "source": [
    "t[0]"
   ]
  },
  {
   "cell_type": "code",
   "execution_count": 10,
   "id": "0e19cc8d-2e23-4f90-ba39-45c8f8d31a0a",
   "metadata": {},
   "outputs": [
    {
     "data": {
      "text/plain": [
       "2"
      ]
     },
     "execution_count": 10,
     "metadata": {},
     "output_type": "execute_result"
    }
   ],
   "source": [
    "t.count(1)"
   ]
  },
  {
   "cell_type": "code",
   "execution_count": 11,
   "id": "11445cc6-1779-4d92-a68c-0ad253844a5f",
   "metadata": {},
   "outputs": [
    {
     "data": {
      "text/plain": [
       "0"
      ]
     },
     "execution_count": 11,
     "metadata": {},
     "output_type": "execute_result"
    }
   ],
   "source": [
    "t.index(1)"
   ]
  },
  {
   "cell_type": "markdown",
   "id": "2f08d2d1-6a66-43cf-805f-f97ba7d1fbb0",
   "metadata": {},
   "source": [
    "tuples are not immutable hence only 2 methods exist for it"
   ]
  },
  {
   "cell_type": "markdown",
   "id": "d77da0c5-12c3-4dd4-a145-fc235ce476e3",
   "metadata": {},
   "source": [
    "Q3. Which collection datatypes in python do not allow duplicate items? Write a code using a set to remove\n",
    "duplicates from the given list.\n",
    "List = [1, 1, 1, 2, 1, 3, 1, 4, 2, 1, 2, 2, 2, 3, 2, 4, 3, 1, 3, 2, 3, 3, 3, 4, 4, 1, 4, 2, 4, 3, 4, 4]"
   ]
  },
  {
   "cell_type": "markdown",
   "id": "5a919ab6-cb3c-407f-b68a-e1932db8ea07",
   "metadata": {},
   "source": [
    "Sets dont allow duplicate items"
   ]
  },
  {
   "cell_type": "code",
   "execution_count": 14,
   "id": "4d09a79b-34ae-4e08-bceb-c71c2b7d7450",
   "metadata": {},
   "outputs": [],
   "source": [
    "List = [1, 1, 1, 2, 1, 3, 1, 4, 2, 1, 2, 2, 2, 3, 2, 4, 3, 1, 3, 2, 3, 3, 3, 4, 4, 1, 4, 2, 4, 3, 4, 4]"
   ]
  },
  {
   "cell_type": "code",
   "execution_count": 16,
   "id": "3b93a6ef-9932-4fea-9a1e-54fb78c99fed",
   "metadata": {},
   "outputs": [],
   "source": [
    "List_noDuplicates = set(List)"
   ]
  },
  {
   "cell_type": "code",
   "execution_count": 17,
   "id": "198197a0-f0d4-4521-a840-9a43f81c2d4a",
   "metadata": {},
   "outputs": [
    {
     "data": {
      "text/plain": [
       "{1, 2, 3, 4}"
      ]
     },
     "execution_count": 17,
     "metadata": {},
     "output_type": "execute_result"
    }
   ],
   "source": [
    "List_noDuplicates"
   ]
  },
  {
   "cell_type": "markdown",
   "id": "c06020ff-0d81-4cd6-aca2-51c9f6ddebbe",
   "metadata": {},
   "source": [
    "Q4. Explain the difference between the union() and update() methods for a set. Give an example of\n",
    "each method."
   ]
  },
  {
   "cell_type": "code",
   "execution_count": 18,
   "id": "7734c758-8d25-414e-8b5b-be5ab4279385",
   "metadata": {},
   "outputs": [],
   "source": [
    "s1 = {1,2,3,1}"
   ]
  },
  {
   "cell_type": "code",
   "execution_count": 19,
   "id": "4c3a4640-c265-46dd-96fe-af58755bf6b3",
   "metadata": {},
   "outputs": [
    {
     "data": {
      "text/plain": [
       "{1, 2, 3, 4}"
      ]
     },
     "execution_count": 19,
     "metadata": {},
     "output_type": "execute_result"
    }
   ],
   "source": [
    "s1.union({1,4})"
   ]
  },
  {
   "cell_type": "code",
   "execution_count": 21,
   "id": "b262eb85-3668-4d12-995c-1c18a4438e99",
   "metadata": {},
   "outputs": [
    {
     "data": {
      "text/plain": [
       "{1, 2, 3}"
      ]
     },
     "execution_count": 21,
     "metadata": {},
     "output_type": "execute_result"
    }
   ],
   "source": [
    "s1  # s1 remains unchanged after union operation"
   ]
  },
  {
   "cell_type": "code",
   "execution_count": 22,
   "id": "528531ae-7f83-460d-a48b-8222479b613a",
   "metadata": {},
   "outputs": [],
   "source": [
    "s1.update({1,4})"
   ]
  },
  {
   "cell_type": "code",
   "execution_count": 24,
   "id": "1a950e7a-f75a-44ce-8ca1-06325d7a887e",
   "metadata": {},
   "outputs": [
    {
     "data": {
      "text/plain": [
       "{1, 2, 3, 4}"
      ]
     },
     "execution_count": 24,
     "metadata": {},
     "output_type": "execute_result"
    }
   ],
   "source": [
    "s1 # s1 gets update by union of the {1,4} with s1"
   ]
  },
  {
   "cell_type": "markdown",
   "id": "60333d79-7802-4c79-8c35-efee41e5526e",
   "metadata": {},
   "source": [
    "Q5. What is a dictionary? Give an example. Also, state whether a dictionary is ordered or unordered."
   ]
  },
  {
   "cell_type": "markdown",
   "id": "8ee77c60-81fb-4aec-8bef-75ff87bd3016",
   "metadata": {},
   "source": [
    "dictionary is a colloection of key value pairs"
   ]
  },
  {
   "cell_type": "markdown",
   "id": "06f1b521-5b1c-4d0f-995f-78967c0c43b0",
   "metadata": {},
   "source": [
    "dictionary is unordered\n"
   ]
  },
  {
   "cell_type": "markdown",
   "id": "42427d15-fd10-4c09-be8a-8fc42565a4fa",
   "metadata": {},
   "source": [
    "Q6. Can we create a nested dictionary? If so, please give an example by creating a simple one-level\n",
    "nested dictionary."
   ]
  },
  {
   "cell_type": "markdown",
   "id": "9c262193-198d-4873-af3d-f0a225b0972d",
   "metadata": {},
   "source": [
    "Yes, below is the example"
   ]
  },
  {
   "cell_type": "code",
   "execution_count": 5,
   "id": "b7b1f3a4-5c56-4ed3-8661-adb035d1df12",
   "metadata": {},
   "outputs": [
    {
     "data": {
      "text/plain": [
       "'three'"
      ]
     },
     "execution_count": 5,
     "metadata": {},
     "output_type": "execute_result"
    }
   ],
   "source": [
    "dic = {1:\"one\", 2: { 3:\"three\", 4:\"four\", 5:\"five\"}}\n",
    "dic[2][3]"
   ]
  },
  {
   "cell_type": "markdown",
   "id": "68419735-533c-4521-bf6e-2b9480c59b21",
   "metadata": {},
   "source": [
    "Q7. Using setdefault() method, create key named topics in the given dictionary and also add the value of\n",
    "the key as this list ['Python', 'Machine Learning’, 'Deep Learning']\n",
    "dict1 = {'language' : 'Python', 'course': 'Data Science Masters'}"
   ]
  },
  {
   "cell_type": "code",
   "execution_count": 22,
   "id": "36ed84ae-9b0a-43ab-ba0c-77a84c3bd29d",
   "metadata": {},
   "outputs": [],
   "source": [
    "dict1 = {'language' : 'Python', 'course': 'Data Science Masters'}"
   ]
  },
  {
   "cell_type": "code",
   "execution_count": 23,
   "id": "37031514-b70a-4454-af0f-ea30df138908",
   "metadata": {},
   "outputs": [
    {
     "data": {
      "text/plain": [
       "dict"
      ]
     },
     "execution_count": 23,
     "metadata": {},
     "output_type": "execute_result"
    }
   ],
   "source": [
    "type(dict1)"
   ]
  },
  {
   "cell_type": "code",
   "execution_count": 24,
   "id": "787b142f-7dae-43b0-a960-b206c8b941b7",
   "metadata": {},
   "outputs": [
    {
     "data": {
      "text/plain": [
       "{'language': 'Python', 'course': 'Data Science Masters'}"
      ]
     },
     "execution_count": 24,
     "metadata": {},
     "output_type": "execute_result"
    }
   ],
   "source": [
    "dict1"
   ]
  },
  {
   "cell_type": "code",
   "execution_count": 25,
   "id": "c2641de0-9287-4aa4-9648-ec675a808f9b",
   "metadata": {},
   "outputs": [
    {
     "data": {
      "text/plain": [
       "['Python', 'machine learning', 'deep learning']"
      ]
     },
     "execution_count": 25,
     "metadata": {},
     "output_type": "execute_result"
    }
   ],
   "source": [
    "dict1.setdefault( \"topics\", [ 'Python', 'machine learning', 'deep learning'])"
   ]
  },
  {
   "cell_type": "code",
   "execution_count": 26,
   "id": "1fe7a736-fb30-4412-8ccc-a7c741e4671f",
   "metadata": {},
   "outputs": [
    {
     "data": {
      "text/plain": [
       "{'language': 'Python',\n",
       " 'course': 'Data Science Masters',\n",
       " 'topics': ['Python', 'machine learning', 'deep learning']}"
      ]
     },
     "execution_count": 26,
     "metadata": {},
     "output_type": "execute_result"
    }
   ],
   "source": [
    "dict1"
   ]
  },
  {
   "cell_type": "markdown",
   "id": "b7a665c1-a90e-4b5d-a9d5-79fc472c85f0",
   "metadata": {},
   "source": [
    "Q8. What are the three view objects in dictionaries? Use the three in-built methods in python to display\n",
    "these three view objects for the given dictionary.\n",
    "dict1 = {'Sport': 'Cricket' , 'Teams': ['India', 'Australia', 'England', 'South Africa', 'Sri Lanka', 'New Zealand']}"
   ]
  },
  {
   "cell_type": "markdown",
   "id": "4c490cf3-289b-4b85-bdcb-dd2e43a0965d",
   "metadata": {},
   "source": [
    "The main view objects of dictionary in python are keys, values and items. They provide a non-constant view of the dictionary’s entries."
   ]
  },
  {
   "cell_type": "code",
   "execution_count": 4,
   "id": "11bac891-39cd-4105-ae96-fe8440c24dd1",
   "metadata": {},
   "outputs": [],
   "source": [
    "dict1 = {'Sport': 'Cricket' , 'Teams': ['India', 'Australia', 'England', 'South Africa', 'Sri Lanka', 'New Zealand']}"
   ]
  },
  {
   "cell_type": "code",
   "execution_count": 10,
   "id": "2cdb9d42-d21c-4be2-b4f1-34bf296df420",
   "metadata": {},
   "outputs": [],
   "source": [
    " k = dict1.keys()"
   ]
  },
  {
   "cell_type": "code",
   "execution_count": 11,
   "id": "084e621e-f086-4eee-b567-7c762bb10aff",
   "metadata": {},
   "outputs": [
    {
     "data": {
      "text/plain": [
       "dict_keys(['Sport', 'Teams'])"
      ]
     },
     "execution_count": 11,
     "metadata": {},
     "output_type": "execute_result"
    }
   ],
   "source": [
    "k"
   ]
  },
  {
   "cell_type": "code",
   "execution_count": 6,
   "id": "2aed2ba2-6a20-41cd-870d-30cdad864d34",
   "metadata": {},
   "outputs": [
    {
     "data": {
      "text/plain": [
       "dict_values(['Cricket', ['India', 'Australia', 'England', 'South Africa', 'Sri Lanka', 'New Zealand']])"
      ]
     },
     "execution_count": 6,
     "metadata": {},
     "output_type": "execute_result"
    }
   ],
   "source": [
    "dict1.values()"
   ]
  },
  {
   "cell_type": "code",
   "execution_count": 12,
   "id": "afd5ce72-8da9-49a6-a68c-3482943be812",
   "metadata": {},
   "outputs": [
    {
     "data": {
      "text/plain": [
       "dict_items([('Sport', 'Cricket'), ('Teams', ['India', 'Australia', 'England', 'South Africa', 'Sri Lanka', 'New Zealand'])])"
      ]
     },
     "execution_count": 12,
     "metadata": {},
     "output_type": "execute_result"
    }
   ],
   "source": [
    "dict1.items()"
   ]
  },
  {
   "cell_type": "code",
   "execution_count": null,
   "id": "e84f3961-7f9e-4e76-9362-3b3bcdafca04",
   "metadata": {},
   "outputs": [],
   "source": []
  }
 ],
 "metadata": {
  "kernelspec": {
   "display_name": "Python 3 (ipykernel)",
   "language": "python",
   "name": "python3"
  },
  "language_info": {
   "codemirror_mode": {
    "name": "ipython",
    "version": 3
   },
   "file_extension": ".py",
   "mimetype": "text/x-python",
   "name": "python",
   "nbconvert_exporter": "python",
   "pygments_lexer": "ipython3",
   "version": "3.10.8"
  }
 },
 "nbformat": 4,
 "nbformat_minor": 5
}
